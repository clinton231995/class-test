{
 "cells": [
  {
   "cell_type": "code",
   "execution_count": 2,
   "metadata": {},
   "outputs": [],
   "source": [
    "def bubbleSort(lst1):\n",
    "    for num in range(len(lst1)-1,0,-1):\n",
    "        for i in range(num):\n",
    "            if lst1[i]>lst1[i+1]:\n",
    "                temp = lst1[i]\n",
    "                lst1[i] = lst1[i+1]\n",
    "                lst1[i+1] = temp"
   ]
  },
  {
   "cell_type": "code",
   "execution_count": 10,
   "metadata": {},
   "outputs": [
    {
     "name": "stdout",
     "output_type": "stream",
     "text": [
      "number of students to add3\n",
      "Enter the roll number of the student : \n",
      "1001\n",
      "Enter the name of the student : \n",
      "clinton\n",
      "no: 1001 name: clinton\n",
      "Enter the roll number of the student : \n",
      "100\n",
      "Enter the name of the student : \n",
      "delvin\n",
      "no: 100 name: delvin\n",
      "Enter the roll number of the student : \n",
      "102\n",
      "Enter the name of the student : \n",
      "snehal\n",
      "no: 102 name: snehal\n",
      "[[1001, 'clinton'], [100, 'delvin'], [102, 'snehal']]\n",
      "[1001, 100, 102]\n",
      "Sorted array is:\n",
      "[100, 102, 1001]\n"
     ]
    }
   ],
   "source": [
    "array = []\n",
    "arr = []\n",
    "n = int(input(\"number of students to add\"))\n",
    "for i in range(n):\n",
    " print(\"Enter the roll number of the student : \")\n",
    " no = int(input())\n",
    " print(\"Enter the name of the student : \")\n",
    " name = input()\n",
    " values = [no,name]\n",
    " print(\"no:\",no,\"name:\",name)\n",
    " array.append(values)\n",
    "print(array)\n",
    "for i in range(len(array)):\n",
    " arr.append(array[i][0])\n",
    "print(arr)\n",
    "\n",
    "bubbleSort(arr)\n",
    "\n",
    "\n",
    "print (\"Sorted array is:\")\n",
    "print (arr) "
   ]
  },
  {
   "cell_type": "code",
   "execution_count": 11,
   "metadata": {},
   "outputs": [
    {
     "name": "stdout",
     "output_type": "stream",
     "text": [
      "[[1001, 'clinton'], [100, 'delvin'], [102, 'snehal']]\n"
     ]
    }
   ],
   "source": [
    "print(array)"
   ]
  },
  {
   "cell_type": "code",
   "execution_count": 12,
   "metadata": {},
   "outputs": [
    {
     "name": "stdout",
     "output_type": "stream",
     "text": [
      "[[100, 'delvin'], [102, 'snehal'], [1001, 'clinton']]\n"
     ]
    }
   ],
   "source": [
    "arr1=[]\n",
    "for i in range(len(arr)):\n",
    "    for j in range(len(arr)):\n",
    "        if arr[i]==array[j][0]:\n",
    "            arr1.append(array[j])\n",
    "print(arr1)"
   ]
  },
  {
   "cell_type": "code",
   "execution_count": null,
   "metadata": {},
   "outputs": [],
   "source": []
  }
 ],
 "metadata": {
  "kernelspec": {
   "display_name": "Python 3",
   "language": "python",
   "name": "python3"
  },
  "language_info": {
   "codemirror_mode": {
    "name": "ipython",
    "version": 3
   },
   "file_extension": ".py",
   "mimetype": "text/x-python",
   "name": "python",
   "nbconvert_exporter": "python",
   "pygments_lexer": "ipython3",
   "version": "3.7.3"
  }
 },
 "nbformat": 4,
 "nbformat_minor": 2
}
